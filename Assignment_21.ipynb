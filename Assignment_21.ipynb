{
 "cells": [
  {
   "cell_type": "markdown",
   "id": "cc0a2f43-30c9-4227-b0e0-c3e3535cf3bb",
   "metadata": {},
   "source": [
    "Q1. What is a probability distribution, exactly? If the values are meant to be random, how can you\n",
    "predict them at all?\n",
    "\n",
    "* Answer ...\n",
    "\n",
    "A probability distribution is a function that describes the likelihood of obtaining the possible values of a random variable. Though the values are meant to be random, their likelihood of occurrence can be predicted based on the distribution's parameters."
   ]
  },
  {
   "cell_type": "markdown",
   "id": "2a624c99-838e-4eb1-910b-4f95d00369e5",
   "metadata": {},
   "source": [
    "Q2. Is there a distinction between true random numbers and pseudo-random numbers, if there is\n",
    "one? Why are the latter considered “good enough”?\n",
    "\n",
    "* Answer ...\n",
    "\n",
    "rue random numbers are generated based on physical processes, while pseudo-random numbers are generated using algorithms. Pseudo-random numbers are considered \"good enough\" because they appear random and can be generated much faster and more efficiently than true random numbers."
   ]
  },
  {
   "cell_type": "markdown",
   "id": "03ab008e-b653-487a-bec0-5b811a895179",
   "metadata": {},
   "source": [
    "Q3. What are the two main factors that influence the behaviour of a \"normal\" probability distribution?\n",
    "\n",
    "* Answer ...\n",
    "\n",
    "The two main factors that influence the behaviour of a normal probability distribution are the mean (average) and standard deviation (how spread out the values are)."
   ]
  },
  {
   "cell_type": "markdown",
   "id": "69e33e6f-97f5-4d50-82cd-e94dc6729241",
   "metadata": {},
   "source": [
    "Q4. Provide a real-life example of a normal distribution.\n",
    "\n",
    "* Answer ...\n",
    "\n",
    " An example of a real-life normal distribution is the height of people in a population."
   ]
  },
  {
   "cell_type": "markdown",
   "id": "78155ec3-4c4a-4dc4-a4f3-27e0093e535c",
   "metadata": {},
   "source": [
    "Q5. In the short term, how can you expect a probability distribution to behave? What do you think will happen as the number of trials grows?\n",
    "\n",
    "* Answer ...\n",
    "\n",
    "In the short term, the behaviour of a probability distribution may vary, but as the number of trials grows, the distribution is expected to approach its expected value."
   ]
  },
  {
   "cell_type": "markdown",
   "id": "03b73815-ed74-43a5-acf8-0fce0c951846",
   "metadata": {},
   "source": [
    "Q6. What kind of object can be shuffled by using random.shuffle?\n",
    "\n",
    "* Answer ...\n",
    "\n",
    "The shuffle function from the random module in Python can shuffle objects like lists, arrays, or other sequences."
   ]
  },
  {
   "cell_type": "markdown",
   "id": "c6ea698e-01f9-4ddd-a682-99b7faf95368",
   "metadata": {},
   "source": [
    "Q7. Describe the math package's general categories of functions.\n",
    "\n",
    "* Answer ...\n",
    "\n",
    "The math package in Python includes functions for arithmetic operations, trigonometry, logarithms, and other mathematical functions."
   ]
  },
  {
   "cell_type": "markdown",
   "id": "ffe7411d-39e8-4aa9-98e3-787779b552aa",
   "metadata": {},
   "source": [
    "Q8. What is the relationship between exponentiation and logarithms?\n",
    "\n",
    "* Answer ...\n",
    "\n",
    "Exponentiation raises a number to a power and logarithms undo exponentiation by finding the exponent that gives a specific number as a result. They are inverse operations."
   ]
  },
  {
   "cell_type": "markdown",
   "id": "dd56623e-10c7-42a6-ae93-2fb4906de152",
   "metadata": {},
   "source": [
    "Q9. What are the three logarithmic functions that Python supports?\n",
    "\n",
    "* Answer ...\n",
    "\n",
    "The three logarithmic functions that Python supports are log(), log10(), and log2()."
   ]
  }
 ],
 "metadata": {
  "kernelspec": {
   "display_name": "Python 3 (ipykernel)",
   "language": "python",
   "name": "python3"
  },
  "language_info": {
   "codemirror_mode": {
    "name": "ipython",
    "version": 3
   },
   "file_extension": ".py",
   "mimetype": "text/x-python",
   "name": "python",
   "nbconvert_exporter": "python",
   "pygments_lexer": "ipython3",
   "version": "3.10.6"
  }
 },
 "nbformat": 4,
 "nbformat_minor": 5
}
