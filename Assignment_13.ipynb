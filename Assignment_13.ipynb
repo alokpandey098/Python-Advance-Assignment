{
 "cells": [
  {
   "cell_type": "markdown",
   "id": "a68771c5-ba64-40d4-bb2a-03a0c101fcea",
   "metadata": {},
   "source": [
    "Q1. Can you create a programme or function that employs both positive and negative indexing? Is\n",
    "there any repercussion if you do so?\n",
    "\n",
    "* Answer ....\n",
    "\n",
    "Yes, it is possible to create a program or function that employs both positive and negative indexing in Python. Negative indexing starts counting from the end of the list. There are no repercussions for using both positive and negative indexing in the same program or function."
   ]
  },
  {
   "cell_type": "markdown",
   "id": "a9ac7ccd-50d5-4f99-887b-4ce0738c48b9",
   "metadata": {},
   "source": [
    "Q2. What is the most effective way of starting with 1,000 elements in a Python list? Assume that all\n",
    "elements should be set to the same value.\n",
    "\n",
    "* Answer ....\n",
    "\n",
    "One effective way to start with 1,000 elements in a Python list and set all elements to the same value is to use a list comprehension: my_list = [value] * 1000."
   ]
  },
  {
   "cell_type": "markdown",
   "id": "bd806262-72e9-4da1-9038-43e4747cb36c",
   "metadata": {},
   "source": [
    "Q3. How do you slice a list to get any other part while missing the rest? (For example, suppose you\n",
    "want to make a new list with the elements first, third, fifth, seventh, and so on.)\n",
    "\n",
    "* Answer ....\n",
    "\n",
    "To slice a list to get every other element, starting with the first, you can use the following syntax: my_list[::2]."
   ]
  },
  {
   "cell_type": "markdown",
   "id": "5dac95cb-4193-480c-b4da-2c1b2bf7e16f",
   "metadata": {},
   "source": [
    "Q4. Explain the distinctions between indexing and slicing.\n",
    "\n",
    "* Answer ....\n",
    "\n",
    "Indexing is used to access a single element of a list or other data structure by its position. Slicing is used to access multiple elements of a list or other data structure by specifying a start, stop, and step value."
   ]
  },
  {
   "cell_type": "markdown",
   "id": "a92955b8-888c-419e-b33d-d9fcb27a7c59",
   "metadata": {},
   "source": [
    "Q5. What happens if one of the slicing expression's indexes is out of range?\n",
    "\n",
    "* Answer ....\n",
    "\n",
    "If one of the slicing expression's indexes is out of range, an IndexError will be raised."
   ]
  },
  {
   "cell_type": "markdown",
   "id": "17fd9fd4-21f2-4707-b4ba-67fa363a64ca",
   "metadata": {},
   "source": [
    "Q6. If you pass a list to a function, and if you want the function to be able to change the values of the\n",
    "list—so that the list is different after the function returns—what action should you avoid?\n",
    "\n",
    "* Answer ....\n",
    "\n",
    "If you pass a list to a function and want the function to change the values of the list, you should avoid passing the list as a parameter with the keyword \"tuple.\""
   ]
  },
  {
   "cell_type": "markdown",
   "id": "7ecc32a3-fabc-47e0-8852-3e2f47f32515",
   "metadata": {},
   "source": [
    "Q7. What is the concept of an unbalanced matrix?\n",
    "\n",
    "* Answer ....\n",
    "\n",
    "An unbalanced matrix is a matrix that does not have the same number of rows as columns."
   ]
  },
  {
   "cell_type": "markdown",
   "id": "834df489-e41f-48c4-81b8-feb2e39e8c20",
   "metadata": {},
   "source": [
    "Q8. Why is it necessary to use either list comprehension or a loop to create arbitrarily large matrices?\n",
    "\n",
    "* Answer ....\n",
    "\n",
    " It is necessary to use either list comprehension or a loop to create arbitrarily large matrices because it is not possible to create a matrix with a fixed number of rows and columns. Instead, you must use a method like list comprehension or a loop to generate each row of the matrix, one by one."
   ]
  }
 ],
 "metadata": {
  "kernelspec": {
   "display_name": "Python 3 (ipykernel)",
   "language": "python",
   "name": "python3"
  },
  "language_info": {
   "codemirror_mode": {
    "name": "ipython",
    "version": 3
   },
   "file_extension": ".py",
   "mimetype": "text/x-python",
   "name": "python",
   "nbconvert_exporter": "python",
   "pygments_lexer": "ipython3",
   "version": "3.10.6"
  }
 },
 "nbformat": 4,
 "nbformat_minor": 5
}
