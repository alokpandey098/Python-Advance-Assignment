{
  "nbformat": 4,
  "nbformat_minor": 0,
  "metadata": {
    "colab": {
      "provenance": []
    },
    "kernelspec": {
      "name": "python3",
      "display_name": "Python 3"
    },
    "language_info": {
      "name": "python"
    }
  },
  "cells": [
    {
      "cell_type": "markdown",
      "source": [
        "# Q1. What is the purpose of Python&#39;s OOP?\n",
        "\n",
        "# Answer ...\n",
        "The purpose of Python's OOP is to organize and structure code in a way that allows for code reuse, encapsulation, and abstraction."
      ],
      "metadata": {
        "id": "lnS2UZ3n0fDx"
      }
    },
    {
      "cell_type": "markdown",
      "source": [
        "\n",
        "\n",
        "---\n",
        "\n"
      ],
      "metadata": {
        "id": "J9x0zh6_0vVg"
      }
    },
    {
      "cell_type": "markdown",
      "source": [
        "# Q2. Where does an inheritance search look for an attribute?\n",
        "\n",
        "\n",
        "# Answer ...\n",
        "An inheritance search looks for an attribute first in the current class, then in the class's parent classes, following the method resolution order (MRO)."
      ],
      "metadata": {
        "id": "-lKFD8oy0wVn"
      }
    },
    {
      "cell_type": "markdown",
      "source": [
        "\n",
        "\n",
        "---\n",
        "\n"
      ],
      "metadata": {
        "id": "XQsmB03T05uw"
      }
    },
    {
      "cell_type": "markdown",
      "source": [
        "# Q3. How do you distinguish between a class object and an instance object?\n",
        "\n",
        "\n",
        "#Answer  .....\n",
        "A class object is a template for creating instances, while an instance object is a specific object created from a class. You can distinguish between a class object and an instance object by checking the object's type."
      ],
      "metadata": {
        "id": "WqTwJ1rg0-cO"
      }
    },
    {
      "cell_type": "markdown",
      "source": [
        "\n",
        "\n",
        "---\n",
        "\n"
      ],
      "metadata": {
        "id": "2jtTS3hQ1H0j"
      }
    },
    {
      "cell_type": "markdown",
      "source": [
        "# Q4. What makes the first argument in a class’s method function special?\n",
        "\n",
        "\n",
        "# Answer ....\n",
        "The first argument in a class's method function, often named \"self\", refers to the instance of the class and allows the method to access and modify the instance's attributes."
      ],
      "metadata": {
        "id": "QTC4qPd81O0Q"
      }
    },
    {
      "cell_type": "markdown",
      "source": [
        "\n",
        "\n",
        "---\n",
        "\n"
      ],
      "metadata": {
        "id": "UN7FX_Lu1YDK"
      }
    },
    {
      "cell_type": "markdown",
      "source": [
        "# Q5. What is the purpose of the __init__ method?\n",
        "\n",
        "\n",
        "# Answer ....\n",
        "The init method is a special method that is called when an instance of a class is created. It is used to initialize the attributes of the instance."
      ],
      "metadata": {
        "id": "9UUZXr171Y2u"
      }
    },
    {
      "cell_type": "markdown",
      "source": [
        "\n",
        "\n",
        "---\n",
        "\n"
      ],
      "metadata": {
        "id": "vylSB7F71kiM"
      }
    },
    {
      "cell_type": "markdown",
      "source": [
        "# Q6. What is the process for creating a class instance?\n",
        "\n",
        "\n",
        "# Answer ....\n",
        "The process for creating a class instance is to call the class name as if it were a function, passing any necessary arguments to the class's init method."
      ],
      "metadata": {
        "id": "BcPzCgdO1lvU"
      }
    },
    {
      "cell_type": "markdown",
      "source": [
        "\n",
        "\n",
        "---\n",
        "\n"
      ],
      "metadata": {
        "id": "zvhlPC2z1wSZ"
      }
    },
    {
      "cell_type": "markdown",
      "source": [
        "# Q7. What is the process for creating a class?\n",
        "\n",
        "\n",
        "# Answer ....\n",
        "The process for creating a class is to use the class keyword, followed by the class name and a set of indented statements defining the class's attributes and methods."
      ],
      "metadata": {
        "id": "kb_kwXmS1xiH"
      }
    },
    {
      "cell_type": "markdown",
      "source": [
        "\n",
        "\n",
        "---\n",
        "\n"
      ],
      "metadata": {
        "id": "zuefU9-k16Wp"
      }
    },
    {
      "cell_type": "markdown",
      "source": [
        "# Q8. How would you define the superclasses of a class?\n",
        "\n",
        "\n",
        "# Answer ....\n",
        " You can define the superclasses of a class by specifying them in the class definition, separated by commas, after the class name. The class will inherit the attributes and methods of its superclasses."
      ],
      "metadata": {
        "id": "j0fFupMD17TF"
      }
    }
  ]
}