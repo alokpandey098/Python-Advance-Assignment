{
 "cells": [
  {
   "cell_type": "markdown",
   "id": "a1b6b981-7cbb-4836-baa2-1efda75facec",
   "metadata": {},
   "source": [
    "Q1. Explain the difference between greedy and non-greedy syntax with visual terms in as few words\n",
    "as possible. What is the bare minimum effort required to transform a greedy pattern into a non-greedy\n",
    "one? What characters or characters can you introduce or change?\n",
    "\n",
    "* Answer ..\n",
    "\n",
    "Greedy syntax tries to match as much of the string as possible, while non-greedy tries to match as little as possible. To make a greedy pattern non-greedy, add a \"?\" after the quantifier."
   ]
  },
  {
   "cell_type": "markdown",
   "id": "75879df3-2c17-4648-9c0b-913f580de06a",
   "metadata": {},
   "source": [
    "Q2. When exactly does greedy versus non-greedy make a difference?  What if you're looking for a\n",
    "non-greedy match but the only one available is greedy?\n",
    "\n",
    "* Answer ..\n",
    "\n",
    "Greedy/non-greedy only makes a difference when there are multiple possible matches for the same pattern. Non-greedy matches the shortest possible string, while greedy matches the longest possible string. If a non-greedy match is needed but only a greedy one is available, you can modify the greedy pattern to make it non-greedy."
   ]
  },
  {
   "cell_type": "markdown",
   "id": "f9360235-8587-4161-bc92-f85b1a949097",
   "metadata": {},
   "source": [
    "Q3. In a simple match of a string, which looks only for one match and does not do any replacement, is\n",
    "the use of a nontagged group likely to make any practical difference?\n",
    "\n",
    "* Answer ..\n",
    "\n",
    "No, using a non-tagged group in a simple match will not make a practical difference."
   ]
  },
  {
   "cell_type": "markdown",
   "id": "cf14b696-dd97-449f-a387-d53d6c47e224",
   "metadata": {},
   "source": [
    "Q4. Describe a scenario in which using a nontagged category would have a significant impact on the\n",
    "program's outcomes.\n",
    "\n",
    "* Answer ..\n",
    "\n",
    "If a program needs to extract multiple non-overlapping substrings from a string, using non-tagged groups can simplify the extraction process."
   ]
  },
  {
   "cell_type": "markdown",
   "id": "7ca8711e-8cfc-481c-8c45-7001f6d71e29",
   "metadata": {},
   "source": [
    "Q5. Unlike a normal regex pattern, a look-ahead condition does not consume the characters it\n",
    "examines. Describe a situation in which this could make a difference in the results of your\n",
    "programme.\n",
    "\n",
    "* Answer ..\n",
    "\n",
    "Using a look-ahead condition can help determine if a match should be made without consuming the characters, which can be important when matching multiple patterns in the same string."
   ]
  },
  {
   "cell_type": "markdown",
   "id": "325c9f30-4b3e-4de5-bb81-6b2d66a2bae5",
   "metadata": {},
   "source": [
    "Q6. In standard expressions, what is the difference between positive look-ahead and negative look-\n",
    "ahead?\n",
    "\n",
    "* Answer ..\n",
    "\n",
    "Positive look-ahead asserts that the following pattern must match, but it does not consume the characters. Negative look-ahead asserts that the following pattern must not match."
   ]
  },
  {
   "cell_type": "markdown",
   "id": "99ebe5b3-fac3-4cfa-ae10-42ca41eb153d",
   "metadata": {},
   "source": [
    "Q7. What is the benefit of referring to groups by name rather than by number in a standard\n",
    "expression?\n",
    "\n",
    "* Answer ..\n",
    "\n",
    "Referring to groups by name instead of number makes it easier to understand the intent of the regex pattern, as well as making the pattern more readable and maintainable."
   ]
  },
  {
   "cell_type": "markdown",
   "id": "d1275a19-5351-441e-a6dd-7199ca509cd4",
   "metadata": {},
   "source": [
    "Q8. Can you identify repeated items within a target string using named groups, as in \"The cow\n",
    "jumped over the moon\"?\n",
    "\n",
    "* Answer ..\n",
    "\n",
    "Yes, you can identify repeated items using named groups."
   ]
  },
  {
   "cell_type": "markdown",
   "id": "d83945d2-545e-4fe2-9242-783defd1fef5",
   "metadata": {},
   "source": [
    "Q9. When parsing a string, what is at least one thing that the Scanner interface does for you that the\n",
    "re.findall feature does not?\n",
    "\n",
    "* Answer ..\n",
    "\n",
    "The Scanner interface provides methods to parse input as primitive data types, as well as handling tokenization and delimiters, which re.findall does not provide."
   ]
  },
  {
   "cell_type": "markdown",
   "id": "90b80736-9784-48e9-96a0-10b902f21244",
   "metadata": {},
   "source": [
    "Q10. Does a scanner object have to be named scanner?\n",
    "\n",
    "* Answer ..\n",
    "\n",
    "No, a Scanner object does not have to be named scanner."
   ]
  }
 ],
 "metadata": {
  "kernelspec": {
   "display_name": "Python 3 (ipykernel)",
   "language": "python",
   "name": "python3"
  },
  "language_info": {
   "codemirror_mode": {
    "name": "ipython",
    "version": 3
   },
   "file_extension": ".py",
   "mimetype": "text/x-python",
   "name": "python",
   "nbconvert_exporter": "python",
   "pygments_lexer": "ipython3",
   "version": "3.10.6"
  }
 },
 "nbformat": 4,
 "nbformat_minor": 5
}
