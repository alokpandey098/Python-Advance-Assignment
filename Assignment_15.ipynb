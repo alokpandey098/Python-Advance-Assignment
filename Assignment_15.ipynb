{
 "cells": [
  {
   "cell_type": "markdown",
   "id": "ee4c5596-116a-459e-8157-93a0bf554b43",
   "metadata": {},
   "source": [
    "Q 1. What are the new features added in Python 3.8 version?\n",
    "\n",
    "* Answer ...\n",
    "\n",
    "Python 3.8 includes a number of new features such as:\n",
    "\n",
    "* Assignment expressions (the \"walrus operator\" :=)\n",
    "* Positional-only parameters\n",
    "* Support for pattern matching\n",
    "* Typing support for final and Literal\n",
    "* New built-in function: breakpoint()"
   ]
  },
  {
   "cell_type": "markdown",
   "id": "4147bc67-4b51-4a66-acab-3a518a109e6e",
   "metadata": {},
   "source": [
    "Q 2. What is monkey patching in Python?\n",
    "\n",
    "* Answer ...\n",
    "\n",
    "Monkey patching in Python refers to the dynamic modification of a class or module at runtime. This can be done to add or change the behavior of a class or module, or to extend its functionality."
   ]
  },
  {
   "cell_type": "markdown",
   "id": "5ce22c48-bb65-45a5-9bf5-95b9804c8c15",
   "metadata": {},
   "source": [
    "Q 3. What is the difference between a shallow copy and deep copy?\n",
    "\n",
    "* Answer ...\n",
    "\n",
    "A shallow copy of an object is a new object that points to the same underlying data as the original object. A deep copy, on the other hand, creates a new object with a completely independent copy of the original object's data."
   ]
  },
  {
   "cell_type": "markdown",
   "id": "d107e136-b421-4cf7-9238-dff95fb25d12",
   "metadata": {},
   "source": [
    "Q 4. What is the maximum possible length of an identifier?\n",
    "\n",
    "* Answer ...\n",
    "\n",
    "The maximum possible length of an identifier in Python is unlimited. However, it is best to keep the identifier length between 1 to 79 characters for readability and maintainability."
   ]
  },
  {
   "cell_type": "markdown",
   "id": "c283fe0d-d377-4852-9f0b-33e67f01bef3",
   "metadata": {},
   "source": [
    "Q 5. What is generator comprehension?\n",
    "\n",
    "* Answer ...\n",
    "\n",
    "Generator comprehension is a concise way to create a generator object in Python. It is similar to list comprehension, but it returns a generator object instead of a list.\n",
    "It is denoted by () instead of [] as in list comprehension."
   ]
  }
 ],
 "metadata": {
  "kernelspec": {
   "display_name": "Python 3 (ipykernel)",
   "language": "python",
   "name": "python3"
  },
  "language_info": {
   "codemirror_mode": {
    "name": "ipython",
    "version": 3
   },
   "file_extension": ".py",
   "mimetype": "text/x-python",
   "name": "python",
   "nbconvert_exporter": "python",
   "pygments_lexer": "ipython3",
   "version": "3.10.6"
  }
 },
 "nbformat": 4,
 "nbformat_minor": 5
}
