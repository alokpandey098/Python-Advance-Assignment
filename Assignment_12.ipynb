{
 "cells": [
  {
   "cell_type": "markdown",
   "id": "a6e3ef30-a23e-4718-8e7b-181d11ee2e35",
   "metadata": {},
   "source": [
    "Q1. Does assigning a value to a string's indexed character violate Python's string immutability?\n",
    "\n",
    "* Answer ....\n",
    "\n",
    "Yes, assigning a value to a string's indexed character violates Python's string immutability."
   ]
  },
  {
   "cell_type": "markdown",
   "id": "3b5507a4-2888-457f-81b7-95a3da472d33",
   "metadata": {},
   "source": [
    "Q2. Does using the += operator to concatenate strings violate Python&#39;s string immutability? Why or\n",
    "why not?\n",
    "\n",
    "* Answer ....\n",
    "\n",
    "No, using the += operator to concatenate strings does not violate Python's string immutability. The += operator creates a new string object and assigns it to the original variable."
   ]
  },
  {
   "cell_type": "markdown",
   "id": "ee5592ff-c147-4dc1-be7d-4be3fd404bc0",
   "metadata": {},
   "source": [
    "Q3. In Python, how many different ways are there to index a character?\n",
    "\n",
    "* Answer ....\n",
    "\n",
    "In Python, you can index a character using square brackets, e.g. my_string[5]. You can also use negative indices to start counting from the end of the string."
   ]
  },
  {
   "cell_type": "markdown",
   "id": "b2b3ec91-9fdf-48d9-b5a1-b8964f94126f",
   "metadata": {},
   "source": [
    "Q4. What is the relationship between indexing and slicing?\n",
    "\n",
    "* Answer ....\n",
    "\n",
    "Indexing is used to access individual characters in a string, while slicing is used to access a sub-string or a range of characters in a string."
   ]
  },
  {
   "cell_type": "markdown",
   "id": "d13c475e-2aed-45be-8554-3fe52151984c",
   "metadata": {},
   "source": [
    "Q5. What is an indexed character's exact data type? What is the data form of a slicing-generated\n",
    "substring?\n",
    "\n",
    "* Answer ....\n",
    "\n",
    "An indexed character is of str data type, and a slicing-generated substring is also of str data type."
   ]
  },
  {
   "cell_type": "markdown",
   "id": "403b3f49-becc-418d-9886-12fd501842a5",
   "metadata": {},
   "source": [
    "Q6. What is the relationship between string and character \"types\" in Python?\n",
    "\n",
    "* Answer ....\n",
    "\n",
    " In Python, a string is a sequence of characters and each character is also of str data type."
   ]
  },
  {
   "cell_type": "markdown",
   "id": "f73f76f1-c810-43a1-9b9e-c516ae5eb82c",
   "metadata": {},
   "source": [
    "Q7. Identify at least two operators and one method that allow you to combine one or more smaller\n",
    "strings to create a larger string.\n",
    "\n",
    "* Answer ....\n",
    "\n",
    "Two operators that allow you to combine one or more smaller strings to create a larger string are the + and * operator. One method that allows you to combine one or more smaller strings to create a larger string is the join() method."
   ]
  },
  {
   "cell_type": "markdown",
   "id": "a938908a-f6c4-4feb-b479-a524f4e5ceb4",
   "metadata": {},
   "source": [
    "Q8. What is the benefit of first checking the target string with in or not in before using the index\n",
    "method to find a substring?\n",
    "\n",
    "* Answer ....\n",
    "\n",
    "The benefit of first checking the target string with in or not in before using the index method is that it is more efficient. The in operator has a time complexity of O(1) while the index method has a time complexity of O(n) where n is the length of the string."
   ]
  },
  {
   "cell_type": "markdown",
   "id": "c031871c-4559-483c-9e30-58dac3c3c5be",
   "metadata": {},
   "source": [
    "Q9. Which operators and built-in string methods produce simple Boolean (true/false) results?\n",
    "\n",
    "* Answer ....\n",
    "\n",
    "Operators such as in and not in and built-in string methods such as startswith(), endswith(), isnumeric() and isalpha() produce simple Boolean results."
   ]
  }
 ],
 "metadata": {
  "kernelspec": {
   "display_name": "Python 3 (ipykernel)",
   "language": "python",
   "name": "python3"
  },
  "language_info": {
   "codemirror_mode": {
    "name": "ipython",
    "version": 3
   },
   "file_extension": ".py",
   "mimetype": "text/x-python",
   "name": "python",
   "nbconvert_exporter": "python",
   "pygments_lexer": "ipython3",
   "version": "3.10.6"
  }
 },
 "nbformat": 4,
 "nbformat_minor": 5
}
