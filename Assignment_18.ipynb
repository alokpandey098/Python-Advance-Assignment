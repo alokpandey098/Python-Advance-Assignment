{
 "cells": [
  {
   "cell_type": "markdown",
   "id": "efb5040e-2ca7-4315-86ea-503a1f838fa2",
   "metadata": {},
   "source": [
    "Q1. Describe the differences between text and binary files in a single paragraph.\n",
    "\n",
    "* Answer ....\n",
    "\n",
    "Text files store data as characters and are human-readable. Binary files store data as 0s and 1s, and are typically not human-readable."
   ]
  },
  {
   "cell_type": "markdown",
   "id": "cd50cfe1-39fd-4448-b7cc-70a9978e3b6e",
   "metadata": {},
   "source": [
    "Q2. What are some scenarios where using text files will be the better option? When would you like to\n",
    "use binary files instead of text files?\n",
    "\n",
    "* Answer ....\n",
    "\n",
    "ext files are better for data that needs to be read and processed by humans, or for compatibility with other systems that can only read text files. Binary files are better for storing complex data structures, and are faster to read and write than text files."
   ]
  },
  {
   "cell_type": "markdown",
   "id": "7c1d679d-1fd4-43c7-95bb-4a80b9f55e4b",
   "metadata": {},
   "source": [
    "Q3. What are some of the issues with using binary operations to read and write a Python integer\n",
    "directly to disc?\n",
    "\n",
    "* Answer ....\n",
    "\n",
    "Issues with using binary operations to read and write a Python integer directly to disk include compatibility with other systems, potential loss of precision or accuracy, and difficulties with debugging."
   ]
  },
  {
   "cell_type": "markdown",
   "id": "2839d786-814a-4698-9071-763373643a01",
   "metadata": {},
   "source": [
    "Q4. Describe a benefit of using the with keyword instead of explicitly opening a file.\n",
    "\n",
    "* Answer ....\n",
    "\n",
    "The \"with\" keyword in Python automatically closes the file after the code within the \"with\" block is executed, even if there is an error. This helps to prevent resource leaks and improve code readability."
   ]
  },
  {
   "cell_type": "markdown",
   "id": "7a4bb413-fbad-4225-9644-0d195950e9af",
   "metadata": {},
   "source": [
    "Q5. Does Python have the trailing newline while reading a line of text? Does Python append a\n",
    "newline when you write a line of text?\n",
    "\n",
    "* Answer ....\n",
    "\n",
    "In Python, a newline character is added when reading a line of text, but a newline character is not added when writing a line of text."
   ]
  },
  {
   "cell_type": "markdown",
   "id": "1aa86478-50dd-444e-89be-f9e1c7f24e34",
   "metadata": {},
   "source": [
    "Q6. What file operations enable for random-access operation?\n",
    "\n",
    "* Answer ....\n",
    "\n",
    "Random-access operations in file handling are enabled by using the seek() method, which allows you to move the file pointer to a specific position in the file."
   ]
  },
  {
   "cell_type": "markdown",
   "id": "bf6b31b6-e49a-46b8-8928-6fdac5422a2c",
   "metadata": {},
   "source": [
    "Q7. When do you think you'll use the struct package the most?\n",
    "\n",
    "* Answer ....\n",
    "\n",
    "The \"struct\" package in Python is best used for encoding and decoding binary data stored in files, or for encoding data for network communication."
   ]
  },
  {
   "cell_type": "markdown",
   "id": "c202c985-c83b-4b0e-9ac2-71d2574bc8a9",
   "metadata": {},
   "source": [
    "Q8. When is pickling the best option?\n",
    "\n",
    "* Answer ....\n",
    "\n",
    "Pickling is best used for serializing Python objects, for example for storing complex data structures, or for sending data over a network."
   ]
  },
  {
   "cell_type": "markdown",
   "id": "856dbf14-53ba-433b-942b-7c2482d0caf7",
   "metadata": {},
   "source": [
    "Q9. When will it be best to use the shelve package?\n",
    "\n",
    "* Answer ....\n",
    "\n",
    "The \"shelve\" package in Python is best used for persistent storage of Python objects, for example as a key-value store or a simple database."
   ]
  },
  {
   "cell_type": "markdown",
   "id": "17e2f98c-8f79-4ece-a19c-646b51f99160",
   "metadata": {},
   "source": [
    "Q10. What is a special restriction when using the shelve package, as opposed to using other data\n",
    "dictionaries?\n",
    "\n",
    "* Answer ....\n",
    "\n",
    "A special restriction when using the \"shelve\" package is that the keys must be strings, as opposed to other data types such as integers."
   ]
  }
 ],
 "metadata": {
  "kernelspec": {
   "display_name": "Python 3 (ipykernel)",
   "language": "python",
   "name": "python3"
  },
  "language_info": {
   "codemirror_mode": {
    "name": "ipython",
    "version": 3
   },
   "file_extension": ".py",
   "mimetype": "text/x-python",
   "name": "python",
   "nbconvert_exporter": "python",
   "pygments_lexer": "ipython3",
   "version": "3.10.6"
  }
 },
 "nbformat": 4,
 "nbformat_minor": 5
}
