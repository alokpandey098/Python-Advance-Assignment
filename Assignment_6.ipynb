{
 "cells": [
  {
   "cell_type": "markdown",
   "id": "57c202f6-0822-4adf-af4a-95915f794a24",
   "metadata": {},
   "source": [
    "Q1. Describe three applications for exception processing.\n",
    "\n",
    "* Answer ...\n",
    "\n",
    "Three applications for exception processing include:\n",
    "\n",
    "* Error handling in a user interface, where an exception may be thrown if the user enters invalid input.\n",
    "* Exception handling in a database system, where an exception may be thrown if a query fails or a connection to the database is lost.\n",
    "* Exception handling in a networked system, where an exception may be thrown if a connection to a remote system fails or a timeout occurs."
   ]
  },
  {
   "cell_type": "markdown",
   "id": "1e0448d3-d862-4495-a21f-fc76b4391870",
   "metadata": {},
   "source": [
    "Q2. What happens if you don't do something extra to treat an exception?\n",
    "\n",
    "* Answer ...\n",
    "\n",
    "If you don't do something extra to treat an exception, it will halt the program execution, and the program will stop running, and it will show the error message."
   ]
  },
  {
   "cell_type": "markdown",
   "id": "fb2e7a71-98b6-4e0d-a39d-cd0ed883cf2d",
   "metadata": {},
   "source": [
    "Q3. What are your options for recovering from an exception in your script?\n",
    "\n",
    "* Answer ...\n",
    "\n",
    "Some options for recovering from an exception in your script include:\n",
    "\n",
    "* Using a try-catch block to catch and handle the exception\n",
    "* Using a finally block to execute cleanup code regardless of whether an exception is thrown\n",
    "* Using a throw statement to throw the exception to a higher level of the call stack for handling\n",
    "* Returning an error code or status indicating that an exception occurred"
   ]
  },
  {
   "cell_type": "markdown",
   "id": "7b52b04b-af49-43e3-a5f9-7d1d9b87d3b6",
   "metadata": {},
   "source": [
    "Q4. Describe two methods for triggering exceptions in your script.\n",
    "\n",
    "* Answer ...\n",
    "\n",
    "Two methods for triggering exceptions in your script include:\n",
    "\n",
    "1 . Using the \"throw\" keyword to throw an exception explicitly.\n",
    "\n",
    "\n",
    "2 .  Using a library function or method that throws an exception, such as a failed database query or a null reference."
   ]
  },
  {
   "cell_type": "markdown",
   "id": "dcf87c2c-13ef-4196-8c16-28e2e12ac48d",
   "metadata": {},
   "source": [
    "Q5. Identify two methods for specifying actions to be executed at termination time, regardless of\n",
    "whether or not an exception exists.\n",
    "\n",
    "* Answer ...\n",
    "\n",
    " Two methods for specifying actions to be executed at termination time, regardless of whether or not an exception exists are:\n",
    "\n",
    "1. Using a \"finally\" block that is executed after the try-catch block.\n",
    "2. Using a destructor method that is called when an object is destroyed."
   ]
  }
 ],
 "metadata": {
  "kernelspec": {
   "display_name": "Python 3 (ipykernel)",
   "language": "python",
   "name": "python3"
  },
  "language_info": {
   "codemirror_mode": {
    "name": "ipython",
    "version": 3
   },
   "file_extension": ".py",
   "mimetype": "text/x-python",
   "name": "python",
   "nbconvert_exporter": "python",
   "pygments_lexer": "ipython3",
   "version": "3.10.6"
  }
 },
 "nbformat": 4,
 "nbformat_minor": 5
}
