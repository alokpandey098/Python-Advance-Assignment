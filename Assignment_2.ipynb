{
 "cells": [
  {
   "cell_type": "markdown",
   "id": "9edad15a-8404-4ecd-9de9-812bbf42a286",
   "metadata": {},
   "source": [
    "Q1. What is the relationship between classes and modules?\n",
    "\n",
    "* Answer \n",
    "\n",
    "The relation between classes and module is that, a module is a file containing Python definitions and statements,\n",
    "\n",
    "while a class is a specific type of definition found within a module."
   ]
  },
  {
   "cell_type": "markdown",
   "id": "b6091d46-3163-4aef-8c7b-72b928c337b6",
   "metadata": {},
   "source": [
    "Q2. How do you make instances and classes?\n",
    "\n",
    "* Answer\n",
    "\n",
    "To make an instance of a classes, we use the class name followed by parentheses. For example: my_instance = MyClass(). To create a class, use the class keyword, followed by the name of the class, and a colon. For example: class MyClass:."
   ]
  },
  {
   "cell_type": "markdown",
   "id": "4d4a622c-d5dc-4ef7-80e9-6ef58f317023",
   "metadata": {},
   "source": [
    "Q3. Where and how should be class attributes created?\n",
    "\n",
    "* Answer \n",
    "\n",
    "Class attributes should be created within the class definition and outside of any specific methods. These attributes are shared by all instances of the class .\n"
   ]
  },
  {
   "cell_type": "markdown",
   "id": "70dedad3-a456-4f5b-8aee-bc2f68200308",
   "metadata": {},
   "source": [
    "Q4. Where and how are instance attributes created?\n",
    "\n",
    "* Answer \n",
    "\n",
    "Instance attributes are created within a class method, usually the __init__ method, and are specific to each instance of the class."
   ]
  },
  {
   "cell_type": "markdown",
   "id": "3077b5dd-e581-4eae-9d86-be44b905e38e",
   "metadata": {},
   "source": [
    "Q5. What does the term \"self\" in a Python class mean?\n",
    "\n",
    "* Answer \n",
    "\n",
    "In a Python class, the term \"self\" refers to the instance of the class on which a method is being called. It is a convention to use \"self\" as the first parameter of a class method, but it can be named anything."
   ]
  },
  {
   "cell_type": "markdown",
   "id": "d494a97f-217c-4597-bb35-fc68b7749de0",
   "metadata": {},
   "source": [
    "Q6. How does a Python class handle operator overloading?\n",
    "\n",
    "* Answer\n",
    "\n",
    "Python classes can handle operator overloading by defining special methods with double underscore prefix and suffix like __add__, __sub__, etc.\n"
   ]
  },
  {
   "cell_type": "markdown",
   "id": "921d50fa-8dd0-4177-9f2f-c3fe2a789c72",
   "metadata": {},
   "source": [
    "Q7. When do you consider allowing operator overloading of your classes?\n",
    "\n",
    "* Answer \n",
    "\n",
    "One should consider allowing operator overloading of a class when it makes the code more readable, and the overloaded operators have a clear meaning for the class."
   ]
  },
  {
   "cell_type": "markdown",
   "id": "df094f10-100a-4c05-ba79-7107ceaea391",
   "metadata": {},
   "source": [
    "Q8. What is the most popular form of operator overloading?\n",
    "\n",
    "* Answer \n",
    "\n",
    "The most popular form of operator overloading is the use of special methods to define the behavior of operators when applied to instances of the class."
   ]
  },
  {
   "cell_type": "markdown",
   "id": "fc9b902a-adca-40cd-9658-75ec7790d751",
   "metadata": {},
   "source": [
    "Q9. What are the two most important concepts to grasp in order to comprehend Python OOP code?\n",
    "\n",
    "* Answer \n",
    "\n",
    "The two most important concepts to grasp in order to comprehend Python OOP code are classes and objects. Understanding how classes define object behavior and how objects are created and used is key to understanding Python OOP code."
   ]
  }
 ],
 "metadata": {
  "kernelspec": {
   "display_name": "Python 3 (ipykernel)",
   "language": "python",
   "name": "python3"
  },
  "language_info": {
   "codemirror_mode": {
    "name": "ipython",
    "version": 3
   },
   "file_extension": ".py",
   "mimetype": "text/x-python",
   "name": "python",
   "nbconvert_exporter": "python",
   "pygments_lexer": "ipython3",
   "version": "3.10.6"
  }
 },
 "nbformat": 4,
 "nbformat_minor": 5
}
