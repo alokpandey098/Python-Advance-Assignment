{
 "cells": [
  {
   "cell_type": "markdown",
   "id": "44845e9f-38f9-4654-ad90-51fd5f1bf6e1",
   "metadata": {},
   "source": [
    "Q1. What is the purpose of the try statement?\n",
    "\n",
    "* Answer ...\n",
    "\n",
    "The purpose of the try statement is to handle exceptions that may occur in a program, allowing the program to continue running instead of crashing."
   ]
  },
  {
   "cell_type": "markdown",
   "id": "75d69b50-591a-44b5-adbd-bdaf893b80cc",
   "metadata": {},
   "source": [
    "Q2. What are the two most popular try statement variations?\n",
    "\n",
    "* Answer ...\n",
    "\n",
    "The two most popular try statement variations are :\n",
    "1. try-except \n",
    "2. try-finally."
   ]
  },
  {
   "cell_type": "markdown",
   "id": "30de25ca-f160-446e-aa88-fdee67b31956",
   "metadata": {},
   "source": [
    "Q3. What is the purpose of the raise statement?\n",
    "\n",
    "* Answer ...\n",
    "\n",
    "The purpose of the raise statement is to raise an exception, allowing the program to jump to an exception handler."
   ]
  },
  {
   "cell_type": "markdown",
   "id": "ccf1ce6d-0062-4180-87b9-8a4c48dc5b6d",
   "metadata": {},
   "source": [
    "Q4. What does the assert statement do, and what other statement is it like?\n",
    "\n",
    "* Answer ...\n",
    "\n",
    "The assert statement tests a condition, and raises an AssertionError exception if the condition is not true. It is similar to the if statement."
   ]
  },
  {
   "cell_type": "markdown",
   "id": "dc831652-6cb2-47d8-b0cc-6b31243d4594",
   "metadata": {},
   "source": [
    "Q5. What is the purpose of the with/as argument, and what other statement is it like?\n",
    "\n",
    "* Answer ...\n",
    "\n",
    "The with/as statement is used to wrap the execution of a block of code with methods defined by a context manager. It is similar to the try-finally statement, but with a specific purpose for resource management."
   ]
  }
 ],
 "metadata": {
  "kernelspec": {
   "display_name": "Python 3 (ipykernel)",
   "language": "python",
   "name": "python3"
  },
  "language_info": {
   "codemirror_mode": {
    "name": "ipython",
    "version": 3
   },
   "file_extension": ".py",
   "mimetype": "text/x-python",
   "name": "python",
   "nbconvert_exporter": "python",
   "pygments_lexer": "ipython3",
   "version": "3.10.6"
  }
 },
 "nbformat": 4,
 "nbformat_minor": 5
}
