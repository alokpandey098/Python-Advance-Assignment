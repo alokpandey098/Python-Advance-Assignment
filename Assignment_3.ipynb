{
 "cells": [
  {
   "cell_type": "markdown",
   "id": "44540310-13a1-4f76-af5e-a11710a815bb",
   "metadata": {},
   "source": [
    "Q 1. What is the concept of an abstract superclass?\n",
    "\n",
    "* Answer \n",
    "\n",
    "An abstract superclass is a class that serves as a base class for other classes, but cannot be instantiated itself. It typically contains abstract methods, which are methods that are defined but have no implementation. These methods are meant to be overridden by subclasses."
   ]
  },
  {
   "cell_type": "markdown",
   "id": "6db52893-1de9-467c-9a17-dd2c1ab3646d",
   "metadata": {},
   "source": [
    "Q 2. What happens when a class statement's top level contains a basic assignment statement?\n",
    "\n",
    "* Answer \n",
    "\n",
    "When a class statement's top level contains a basic assignment statement, the assignment statement defines a class variable, which is shared by all instances of the class."
   ]
  },
  {
   "cell_type": "markdown",
   "id": "6fc1a72f-fcca-4585-b62a-8e11174878a1",
   "metadata": {},
   "source": [
    "Q 3. Why does a class need to manually call a superclass's __init__ method?\n",
    "\n",
    "* Answer \n",
    "\n",
    "A class needs to manually call a superclass's init method when it wants to extend or modify the behavior of the superclass's constructor. This is done using the super().__init__() call."
   ]
  },
  {
   "cell_type": "markdown",
   "id": "d6e7a768-62b3-4cc7-8578-5177abf18ab4",
   "metadata": {},
   "source": [
    "Q 4. How can you augment, instead of completely replacing, an inherited method?\n",
    "\n",
    "* Answer \n",
    "\n",
    "To augment an inherited method, rather than completely replacing it, you can use the super() function to call the method from the superclass. Then you can add additional behavior before or after the call to the superclass's method."
   ]
  },
  {
   "cell_type": "markdown",
   "id": "9bb90b63-6755-4d43-85a8-3fe5450337f8",
   "metadata": {},
   "source": [
    "Q 5. How is the local scope of a class different from that of a function?\n",
    "\n",
    "* Answer \n",
    "\n",
    "The local scope of a class is different from that of a function in that class variables and methods are defined within the class and are accessible to all instances of the class, whereas variables defined within a function are only accessible within the function. Additionally, class variables persist across instances of the class, whereas variables defined in a function are created anew each time the function is called."
   ]
  }
 ],
 "metadata": {
  "kernelspec": {
   "display_name": "Python 3 (ipykernel)",
   "language": "python",
   "name": "python3"
  },
  "language_info": {
   "codemirror_mode": {
    "name": "ipython",
    "version": 3
   },
   "file_extension": ".py",
   "mimetype": "text/x-python",
   "name": "python",
   "nbconvert_exporter": "python",
   "pygments_lexer": "ipython3",
   "version": "3.10.6"
  }
 },
 "nbformat": 4,
 "nbformat_minor": 5
}
