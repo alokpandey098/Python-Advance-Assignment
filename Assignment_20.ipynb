{
 "cells": [
  {
   "cell_type": "markdown",
   "id": "061b3bd3-6759-4466-84bd-0628b8464db5",
   "metadata": {},
   "source": [
    "Q1.Compare and contrast the float and Decimal classes' benefits and drawbacks.\n",
    "\n",
    "* Answer ...\n",
    "\n",
    "The float class represents floating-point numbers which are subject to rounding errors, but are fast and have a wide range of representable values. The Decimal class is a higher precision decimal representation of numbers which eliminates rounding errors but is slower than float."
   ]
  },
  {
   "cell_type": "markdown",
   "id": "e8371b0f-483b-4943-8b7d-7f04c920fa19",
   "metadata": {},
   "source": [
    "Q2.Decimal('1.200') and Decimal('1.2') are two objects to consider. In what sense are these the same object? Are these just two ways of representing the exact same value, or do they correspond to different internal states?\n",
    "\n",
    "* Answer ...\n",
    "\n",
    "Decimal('1.200') and Decimal('1.2') are two different objects that represent different internal states, but have the same value."
   ]
  },
  {
   "cell_type": "markdown",
   "id": "54c53719-baeb-4c4e-b154-3144ef4c8f25",
   "metadata": {},
   "source": [
    "Q3.What happens if the equality of Decimal('1.200') and Decimal('1.2') is checked?\n",
    "\n",
    "* Answer ...\n",
    "\n",
    "Checking equality between Decimal('1.200') and Decimal('1.2') will return True"
   ]
  },
  {
   "cell_type": "markdown",
   "id": "818edfc2-44e2-4ac7-87eb-5f5c38ebcaba",
   "metadata": {},
   "source": [
    "Q4.Why is it preferable to start a Decimal object with a string rather than a floating-point value?\n",
    "\n",
    "* Answer ...\n",
    "\n",
    "It is preferable to start a Decimal object with a string rather than a floating-point value because floating-point numbers may have limited precision, leading to unexpected results, while a string representation will preserve the exact value."
   ]
  },
  {
   "cell_type": "markdown",
   "id": "6893378f-5bb2-482d-bd9d-0f39bc93ed78",
   "metadata": {},
   "source": [
    "Q5.In an arithmetic phrase, how simple is it to combine Decimal objects with integers?\n",
    "\n",
    "* Answer ...\n",
    "\n",
    "It is straightforward to combine Decimal objects with integers in arithmetic expressions"
   ]
  },
  {
   "cell_type": "markdown",
   "id": "1b3169a4-1d96-4a78-8fb9-5353b4ad0dae",
   "metadata": {},
   "source": [
    "Q6.Can Decimal objects and floating-point values be combined easily?\n",
    "\n",
    "* Answer ...\n",
    "\n",
    "Combining Decimal objects and floating-point values is possible, but may lead to unexpected results due to the limited precision of floating-point numbers."
   ]
  },
  {
   "cell_type": "markdown",
   "id": "cbbddea5-bfde-48c4-92c2-8ef90c0d5aed",
   "metadata": {},
   "source": [
    "Q7.Using the Fraction class but not the Decimal class, give an example of a quantity that can be expressed with absolute precision.\n",
    "\n",
    "* Answer ...\n",
    "\n",
    "A quantity that can be expressed with absolute precision using the Fraction class, but not the Decimal class, is 1/3."
   ]
  },
  {
   "cell_type": "markdown",
   "id": "d96a3b6a-ac80-4b02-a19b-12e0c8c13adf",
   "metadata": {},
   "source": [
    "Q8.Describe a quantity that can be accurately expressed by the Decimal or Fraction classes but not by a floating-point value.\n",
    "\n",
    "* Answer ...\n",
    "\n",
    "A quantity that can be accurately expressed by the Decimal or Fraction classes, but not by a floating-point value is the exact value of Pi, for example."
   ]
  },
  {
   "cell_type": "markdown",
   "id": "229b0904-0ca0-4b92-9d3d-8d152f0fcef0",
   "metadata": {},
   "source": [
    "Q9.Consider the following two fraction objects: Fraction(1, 2) and Fraction(1, 2). (5, 10). Is the internal state of these two objects the same? Why do you think that is?\n",
    "\n",
    "* Answer ...\n",
    "\n",
    "The internal state of the two objects Fraction(1, 2) and Fraction(5, 10) is the same as they both represent the same fractional value of 1/2."
   ]
  },
  {
   "cell_type": "markdown",
   "id": "603d5f8b-b665-415b-bfc9-12c4f190a5d7",
   "metadata": {},
   "source": [
    "Q10. How do the Fraction class and the integer type (int) relate to each other? Containment or inheritance?\n",
    "\n",
    "* Answer ...\n",
    "\n",
    "The Fraction class and the integer type (int) relate to each other in the sense of inheritance. Fraction is a subclass of numbers.Rational, which is a subclass of numbers.Real, which is a subclass of numbers.Number."
   ]
  }
 ],
 "metadata": {
  "kernelspec": {
   "display_name": "Python 3 (ipykernel)",
   "language": "python",
   "name": "python3"
  },
  "language_info": {
   "codemirror_mode": {
    "name": "ipython",
    "version": 3
   },
   "file_extension": ".py",
   "mimetype": "text/x-python",
   "name": "python",
   "nbconvert_exporter": "python",
   "pygments_lexer": "ipython3",
   "version": "3.10.6"
  }
 },
 "nbformat": 4,
 "nbformat_minor": 5
}
