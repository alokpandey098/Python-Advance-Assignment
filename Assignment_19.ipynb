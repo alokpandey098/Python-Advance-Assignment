{
 "cells": [
  {
   "cell_type": "markdown",
   "id": "b70dd5b3-51e9-4278-9173-6b5c5673f5a4",
   "metadata": {},
   "source": [
    "Q1. Define the relationship between a class and its instances. Is it a one-to-one or a one-to-many partnership, for example?\n",
    "\n",
    "* Answer ...\n",
    "\n",
    "A class and its instances have a one-to-many relationship, where one class can have multiple instances."
   ]
  },
  {
   "cell_type": "markdown",
   "id": "c97f50eb-c376-41e6-ab6a-bdc635937f03",
   "metadata": {},
   "source": [
    "Q2. What kind of data is held only in an instance?\n",
    "\n",
    "* Answer ...\n",
    "\n",
    "Instance-specific data, such as instance variables, is held only in an instance."
   ]
  },
  {
   "cell_type": "markdown",
   "id": "85844e10-a90d-4076-86b0-672976975895",
   "metadata": {},
   "source": [
    "Q3. What kind of knowledge is stored in a class?\n",
    "\n",
    "* Answer ...\n",
    "\n",
    "Class-level knowledge, such as class variables and methods, is stored in a class."
   ]
  },
  {
   "cell_type": "markdown",
   "id": "f22d6dd4-9767-4cbc-a9d3-e3c455664f22",
   "metadata": {},
   "source": [
    "Q4. What exactly is a method, and how is it different from a regular function?\n",
    "\n",
    "* Answer ...\n",
    "\n",
    "A method is a function that is associated with a class and its instances, and operates on the data held in those instances. Methods are different from regular functions because they are bound to the class or instance, and have access to their data."
   ]
  },
  {
   "cell_type": "markdown",
   "id": "29cf79f7-81a7-4506-9cd9-ebccbe18e3c4",
   "metadata": {},
   "source": [
    "Q5. Is inheritance supported in Python, and if so, what is the syntax?\n",
    "\n",
    "* Answer ...\n",
    "\n",
    "Yes, inheritance is supported in Python. The syntax for inheritance is class Subclass(Superclass)."
   ]
  },
  {
   "cell_type": "markdown",
   "id": "b6e60f60-f771-4ae1-9912-dfee11fc0533",
   "metadata": {},
   "source": [
    "Q6. How much encapsulation (making instance or class variables private) does Python support?\n",
    "\n",
    "* Answer ...\n",
    "\n",
    "Python supports encapsulation through the use of private variables and methods, which can be denoted by prefixing the name with an underscore (_)."
   ]
  },
  {
   "cell_type": "markdown",
   "id": "4e4358a3-9f56-4d07-bc98-ae6883d30bb3",
   "metadata": {},
   "source": [
    "Q7. How do you distinguish between a class variable and an instance variable?\n",
    "\n",
    "* Answer ...\n",
    "\n",
    "A class variable is shared among all instances of a class, whereas an instance variable is unique to each instance."
   ]
  },
  {
   "cell_type": "markdown",
   "id": "82ecaf2d-f652-4ea4-abd2-e44850f12387",
   "metadata": {},
   "source": [
    "Q8. When, if ever, can self be included in a class's method definitions?\n",
    "\n",
    "* Answer ...\n",
    "\n",
    "The \"self\" keyword is included in a class method definition to refer to the instance on which the method is being called."
   ]
  },
  {
   "cell_type": "markdown",
   "id": "eb602745-6725-4f4b-a2e8-ed6cb35df096",
   "metadata": {},
   "source": [
    "Q9. What is the difference between the _ add _ and the _ radd _ methods?\n",
    "\n",
    "* Answer ...\n",
    "\n",
    "The _ add _ method is used for defining the behavior of the \"+\" operator for instances of a class, whereas the _ radd _ method is used for defining the behavior of the \"+\" operator for instances of other classes."
   ]
  },
  {
   "cell_type": "markdown",
   "id": "39ab155f-d853-43cc-8ecf-acb9431c5dbb",
   "metadata": {},
   "source": [
    "Q10. When is it necessary to use a reflection method? When do you not need it, even though you support the operation in question?\n",
    "\n",
    "* Answer ...\n",
    "\n",
    "Reflection methods are used to dynamically inspect and modify the attributes of an object at runtime. They are not needed if the desired operation is already supported by the object's class."
   ]
  },
  {
   "cell_type": "markdown",
   "id": "bf6c9ae9-031a-43ed-87fc-3244e5d08bf6",
   "metadata": {},
   "source": [
    "Q11. What is the _ iadd _ method called?\n",
    "\n",
    "* Answer ...\n",
    "\n",
    "The _ iadd _ method is called the in-place addition method."
   ]
  },
  {
   "cell_type": "markdown",
   "id": "e1d76d95-d948-4a59-a7e2-a9f2cfbd50a2",
   "metadata": {},
   "source": [
    "Q12. Is the _ init _ method inherited by subclasses? What do you do if you need to customize its behavior within a subclass?\n",
    "\n",
    "* Answer ...\n",
    "\n",
    "Yes, the _ init _ method is inherited by subclasses. To customize its behavior in a subclass, it can be overridden with a new implementation in the subclass."
   ]
  }
 ],
 "metadata": {
  "kernelspec": {
   "display_name": "Python 3 (ipykernel)",
   "language": "python",
   "name": "python3"
  },
  "language_info": {
   "codemirror_mode": {
    "name": "ipython",
    "version": 3
   },
   "file_extension": ".py",
   "mimetype": "text/x-python",
   "name": "python",
   "nbconvert_exporter": "python",
   "pygments_lexer": "ipython3",
   "version": "3.10.6"
  }
 },
 "nbformat": 4,
 "nbformat_minor": 5
}
