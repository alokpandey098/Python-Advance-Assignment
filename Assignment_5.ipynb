{
 "cells": [
  {
   "cell_type": "markdown",
   "id": "413907c9-33ec-453f-af9b-b0f55406f4bb",
   "metadata": {},
   "source": [
    "Q1. What is the meaning of multiple inheritance?\n",
    "\n",
    "* Answer \n",
    "\n",
    "Multiple inheritance is a feature of some object-oriented programming languages in which an object or class can inherit characteristics and behavior from more than one parent object or class.\n"
   ]
  },
  {
   "cell_type": "markdown",
   "id": "8dea43d0-ebcb-4516-8f93-551d3a6b7826",
   "metadata": {},
   "source": [
    "Q2. What is the concept of delegation?\n",
    "\n",
    "* Answer \n",
    "\n",
    "Delegation is a design pattern where an object, instead of performing a task itself, delegates the task to another object.\n"
   ]
  },
  {
   "cell_type": "markdown",
   "id": "700304e8-d2ad-43bc-895e-07c650239835",
   "metadata": {},
   "source": [
    "Q3. What is the concept of composition?\n",
    "\n",
    "* Answer \n",
    "\n",
    "Composition is a design pattern where an object is composed of one or more other objects, which retain their own identity and can be reused in other contexts.\n"
   ]
  },
  {
   "cell_type": "markdown",
   "id": "dfc45614-e102-4e5d-bb66-ca46d4252a5a",
   "metadata": {},
   "source": [
    "Q4. What are bound methods and how do we use them?\n",
    "\n",
    "* Answer \n",
    "\n",
    "In Python, bound methods are methods that are bound to a specific object, meaning that they have access to the object's data and can modify it. We use them by referencing the method on an object, such as \"object.method()\".\n"
   ]
  },
  {
   "cell_type": "markdown",
   "id": "6e260046-bf39-445e-ba0c-13fb4aaf7cba",
   "metadata": {},
   "source": [
    "Q5. What is the purpose of pseudoprivate attributes?\n",
    "\n",
    "* Answer \n",
    "\n",
    "Pseudoprivate attributes are attributes in a class that are intended to be used only within the class, but are not truly private and can still be accessed from outside the class. They are often denoted by a single leading underscore, such as \"_attribute\". The purpose of pseudoprivate attributes is to indicate to the developer that the attribute is intended for internal use only, and should not be accessed or modified directly.\n"
   ]
  }
 ],
 "metadata": {
  "kernelspec": {
   "display_name": "Python 3 (ipykernel)",
   "language": "python",
   "name": "python3"
  },
  "language_info": {
   "codemirror_mode": {
    "name": "ipython",
    "version": 3
   },
   "file_extension": ".py",
   "mimetype": "text/x-python",
   "name": "python",
   "nbconvert_exporter": "python",
   "pygments_lexer": "ipython3",
   "version": "3.10.6"
  }
 },
 "nbformat": 4,
 "nbformat_minor": 5
}
