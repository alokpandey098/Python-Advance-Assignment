{
 "cells": [
  {
   "cell_type": "markdown",
   "id": "a366fd65-5954-4e2f-95c7-3ec586fa5f86",
   "metadata": {},
   "source": [
    "Q1. Is an assignment operator like += only for show? Is it possible that it would lead to faster results at the runtime?\n",
    "\n",
    "* Answer ...\n",
    "\n",
    "An assignment operator like += can lead to faster results at runtime because it modifies the existing object in-place rather than creating a new one."
   ]
  },
  {
   "cell_type": "markdown",
   "id": "4c555638-cd8b-4a54-8028-a93ad2ee6cff",
   "metadata": {},
   "source": [
    "Q2. What is the smallest number of statements you'd have to write in most programming languages to replace the Python expression a, b = a + b, a?\n",
    "\n",
    "* Answer ...\n",
    "\n",
    "n most programming languages, at least three statements would be required to replace the Python expression a, b = a + b, a. For example, in C++: temp = a; a = a + b; b = temp;."
   ]
  },
  {
   "cell_type": "markdown",
   "id": "cbb8d0d3-e3f7-4761-bc79-321274d6124b",
   "metadata": {},
   "source": [
    "Q3. In Python, what is the most effective way to set a list of 100 integers to 0?\n",
    "\n",
    "* Answer ...\n",
    "\n",
    "The most effective way to set a list of 100 integers to 0 in Python is by using a list comprehension: my_list = [0 for _ in range(100)]."
   ]
  },
  {
   "cell_type": "markdown",
   "id": "40f0dabb-71d3-46c2-868b-6552e77b4cc5",
   "metadata": {},
   "source": [
    "Q4. What is the most effective way to initialise a list of 99 integers that repeats the sequence 1, 2, 3? S If necessary, show step-by-step instructions on how to accomplish this.\n",
    "\n",
    "* Answer ...\n",
    "\n",
    "The most effective way to initialize a list of 99 integers that repeats the sequence 1, 2, 3 in Python is by using a list comprehension: my_list = [i % 3 + 1 for i in range(99)]."
   ]
  },
  {
   "cell_type": "markdown",
   "id": "fed45e43-c8eb-477d-a6a2-3c1962a823e4",
   "metadata": {},
   "source": [
    "Q5. If you're using IDLE to run a Python application, explain how to print a multidimensional list as efficiently?\n",
    "\n",
    "* Answer ...\n",
    "\n",
    "To efficiently print a multidimensional list in IDLE, you can use the pprint module, which provides a pprint() function that can be used to print nested lists in a more readable format."
   ]
  },
  {
   "cell_type": "markdown",
   "id": "da8ee027-859d-46b4-9367-4d1fe44faae8",
   "metadata": {},
   "source": [
    "Q6. Is it possible to use list comprehension with a string? If so, how can you go about doing it?\n",
    "\n",
    "* Answer ...\n",
    "\n",
    "Yes, it is possible to use list comprehension with a string in Python. You can accomplish this by using a list comprehension to convert each character in the string to a list element, e.g. my_list = [c for c in my_string]."
   ]
  },
  {
   "cell_type": "markdown",
   "id": "112b3869-9f47-456a-82ec-f26b5f18eebc",
   "metadata": {},
   "source": [
    "Q7. From the command line, how do you get support with a user-written Python programme? Is this possible from inside IDLE?\n",
    "\n",
    "* Answer ...\n",
    "\n",
    "To get support with a user-written Python program from the command line, you can use the pydoc command, which provides access to the Python documentation. This is also possible from inside IDLE by using the help() function."
   ]
  },
  {
   "cell_type": "markdown",
   "id": "b36290cf-c088-4e45-b0f2-77d188748822",
   "metadata": {},
   "source": [
    "Q8. Functions are said to be “first-class objects” in Python but not in most other languages, such as C++ or Java. What can you do in Python with a function (callable object) that you can't do in C or C++?\n",
    "\n",
    "* Answer ...\n",
    "\n",
    "In Python, functions are first-class objects, which means that they can be passed as arguments to other functions, assigned to variables, and stored in data structures like lists and dictionaries. This is not possible in C++ or Java."
   ]
  },
  {
   "cell_type": "markdown",
   "id": "149bbe62-5ca4-4af2-a4d5-dda3246371a6",
   "metadata": {},
   "source": [
    "Q9. How do you distinguish between a wrapper, a wrapped feature, and a decorator?\n",
    "\n",
    "* Answer ...\n",
    "\n",
    "A wrapper is a function that takes a function as an argument and returns a new function, often with some additional behavior. A wrapped feature is the original function that was passed to the wrapper. A decorator is a specific type of wrapper that is applied to a function using the @ symbol."
   ]
  },
  {
   "cell_type": "markdown",
   "id": "9029e251-de2c-43e5-90ba-a08019f4fdd8",
   "metadata": {},
   "source": [
    "Q10. If a function is a generator function, what does it return?\n",
    "\n",
    "* Answer ...\n",
    "\n",
    "A generator function returns a generator object, which is an iterator that allows you to iterate over a sequence of values without storing them all in memory at once."
   ]
  },
  {
   "cell_type": "markdown",
   "id": "89ad7131-4f07-434c-ac7c-a43987cc8ec4",
   "metadata": {},
   "source": [
    "Q11. What is the one improvement that must be made to a function in order for it to become a generator function in the Python language?\n",
    "\n",
    "* Answer ...\n",
    "\n",
    "The one improvement that must be made to a function in order for it to become a generator function in the Python language is that it must include a yield statement, which allows the function to return values one at a time rather than all at once."
   ]
  },
  {
   "cell_type": "markdown",
   "id": "fe041a8f-499e-47e1-85b7-b83b9f6ac10a",
   "metadata": {},
   "source": [
    "Q12. Identify at least one benefit of generators.\n",
    "\n",
    "* Answer ...\n",
    "\n",
    "One benefit of generators is that they allow you to iterate over large sequences of data without storing the entire sequence in memory at once, which can save memory and improve performance."
   ]
  }
 ],
 "metadata": {
  "kernelspec": {
   "display_name": "Python 3 (ipykernel)",
   "language": "python",
   "name": "python3"
  },
  "language_info": {
   "codemirror_mode": {
    "name": "ipython",
    "version": 3
   },
   "file_extension": ".py",
   "mimetype": "text/x-python",
   "name": "python",
   "nbconvert_exporter": "python",
   "pygments_lexer": "ipython3",
   "version": "3.10.6"
  }
 },
 "nbformat": 4,
 "nbformat_minor": 5
}
