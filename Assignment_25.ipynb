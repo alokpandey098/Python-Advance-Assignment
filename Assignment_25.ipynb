{
 "cells": [
  {
   "cell_type": "markdown",
   "id": "5ea5bab2-01c7-4cc9-8124-b63213e7aaf1",
   "metadata": {},
   "source": [
    "Q1. What is the distinction between a numpy array and a pandas data frame? Is there a way to\n",
    "convert between the two if there is?\n",
    "\n",
    "* Answer ...\n",
    "\n",
    "Numpy arrays are homogeneous multi-dimensional arrays, while pandas data frames are 2-dimensional labeled data structures with columns of different data types. Conversion between the two can be done using numpy.array() or pandas.DataFrame()."
   ]
  },
  {
   "cell_type": "markdown",
   "id": "0e440442-3583-4e1e-9281-2457020a0485",
   "metadata": {},
   "source": [
    "Q2. What can go wrong when an user enters in a stock-ticker symbol, and how do you handle it?\n",
    "\n",
    "* Answer ...\n",
    "\n",
    "Stock-ticker symbol validation errors can occur if the symbol entered is invalid, not recognized, or not supported. These errors can be handled by using a try-except block and checking the validity of the symbol before fetching data."
   ]
  },
  {
   "cell_type": "markdown",
   "id": "1a82944e-1d62-4c1c-ae14-df33fa620b78",
   "metadata": {},
   "source": [
    "Q3. Identify some of the plotting techniques that are used to produce a stock-market chart.\n",
    "\n",
    "* Answer ...\n",
    "\n",
    "Some of the plotting techniques used for stock market charts include line plots, bar plots, candlestick plots, and ohlc (Open-High-Low-Close) plots."
   ]
  },
  {
   "cell_type": "markdown",
   "id": "4ac91b2c-6d16-4ac2-94af-c79caf7cf1ec",
   "metadata": {},
   "source": [
    "Q4. Why is it essential to print a legend on a stock market chart?\n",
    "\n",
    "* Answer ...\n",
    "\n",
    "A legend on a stock market chart is important to provide information about the plotted data, including the stock name, symbol, and color-coding. This helps to distinguish between multiple stocks plotted on the same chart."
   ]
  },
  {
   "cell_type": "markdown",
   "id": "f5bd2e37-1b1f-482b-85e1-dc9fb8c7ede1",
   "metadata": {},
   "source": [
    "Q5. What is the best way to limit the length of a pandas data frame to less than a year?\n",
    "\n",
    "* Answer ...\n",
    "\n",
    "To limit the length of a pandas data frame to less than a year, you can use the df.tail(n) or df[-n:] methods to retrieve the last n rows of data."
   ]
  },
  {
   "cell_type": "markdown",
   "id": "20aff44a-6f49-472d-a39f-c977857e49ba",
   "metadata": {},
   "source": [
    "Q6. What is the definition of a 180-day moving average?\n",
    "\n",
    "* Answer ...\n",
    "\n",
    "A 180-day moving average is a calculation of the average of a stock's price over the past 180 trading days, and it's often used as a trend indicator."
   ]
  },
  {
   "cell_type": "markdown",
   "id": "3fda7837-0c3b-47bc-aed4-fd378a09b3c1",
   "metadata": {},
   "source": [
    "Q7. Did the chapter's final example use \"indirect\" importing? If so, how exactly do you do it?\n",
    "\n",
    "* Answer ...\n",
    "\n",
    "The final example in the chapter did use \"indirect\" importing, where a module is imported under a different name. It was done by using the import module as alias syntax, and the alias was used to reference the imported module."
   ]
  }
 ],
 "metadata": {
  "kernelspec": {
   "display_name": "Python 3 (ipykernel)",
   "language": "python",
   "name": "python3"
  },
  "language_info": {
   "codemirror_mode": {
    "name": "ipython",
    "version": 3
   },
   "file_extension": ".py",
   "mimetype": "text/x-python",
   "name": "python",
   "nbconvert_exporter": "python",
   "pygments_lexer": "ipython3",
   "version": "3.10.6"
  }
 },
 "nbformat": 4,
 "nbformat_minor": 5
}
