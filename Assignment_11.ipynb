{
 "cells": [
  {
   "cell_type": "markdown",
   "id": "4110eef6-d1df-4ac9-b1e2-fc34769196c1",
   "metadata": {},
   "source": [
    "Q1. What is the concept of a metaclass?\n",
    "\n",
    "* Answer ....\n",
    "\n",
    "A metaclass is a class that defines how a class behaves. It is used to create or customize the behavior of a class, such as how instances of the class are created, how methods are defined, and how inheritance is handled."
   ]
  },
  {
   "cell_type": "markdown",
   "id": "6afdfe24-6a00-47ab-a087-0953e7fcca7b",
   "metadata": {},
   "source": [
    "Q2. What is the best way to declare a class' metaclass?\n",
    "\n",
    "* Answer ....\n",
    "\n",
    "The best way to declare a class's metaclass is to use the metaclass keyword argument in the class definition. For example, class MyClass(metaclass=MyMetaclass):"
   ]
  },
  {
   "cell_type": "markdown",
   "id": "8eccf520-efc5-417b-88c0-f7627d7b43da",
   "metadata": {},
   "source": [
    "Q3. How do class decorators overlap with metaclasses for handling classes\n",
    "\n",
    "* Answer ....\n",
    "\n",
    "Class decorators and metaclasses can be used to handle classes in similar ways. Both can be used to modify the behavior of a class, such as adding methods or changing inheritance. However, class decorators operate on the class itself, while metaclasses operate on the class's type."
   ]
  },
  {
   "cell_type": "markdown",
   "id": "88a54b53-28d0-4ee2-ac58-af5e56da776e",
   "metadata": {},
   "source": [
    "Q4. How do class decorators overlap with metaclasses for handling instances?\n",
    "\n",
    "* Answer ....\n",
    "\n",
    "Class decorators and metaclasses do not overlap in handling instances. Class decorators operate on the class and metaclasses operate on the class's type. Instance-level behavior is typically handled through methods or through instance-level decorators."
   ]
  }
 ],
 "metadata": {
  "kernelspec": {
   "display_name": "Python 3 (ipykernel)",
   "language": "python",
   "name": "python3"
  },
  "language_info": {
   "codemirror_mode": {
    "name": "ipython",
    "version": 3
   },
   "file_extension": ".py",
   "mimetype": "text/x-python",
   "name": "python",
   "nbconvert_exporter": "python",
   "pygments_lexer": "ipython3",
   "version": "3.10.6"
  }
 },
 "nbformat": 4,
 "nbformat_minor": 5
}
