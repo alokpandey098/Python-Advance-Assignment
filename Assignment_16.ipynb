{
 "cells": [
  {
   "cell_type": "markdown",
   "id": "9c1ed916-21b7-4020-aa93-f2cb87c7bf6d",
   "metadata": {},
   "source": [
    "Q1. What is the benefit of regular expressions?\n",
    "\n",
    "* Answer ....\n",
    "\n",
    "Regular expressions provide a powerful and flexible way to search and manipulate text. They allow you to define patterns of characters to match, and can be used to find, replace, or extract specific parts of a string."
   ]
  },
  {
   "cell_type": "markdown",
   "id": "d6304740-4f4f-4b9c-8681-0d7a971b7eb6",
   "metadata": {},
   "source": [
    "Q2. Describe the difference between the effects of \"(ab)c+\" and \"(bc)+\"Which of these, if any, is the\n",
    "unqualified pattern\"abc+\"?\n",
    "\n",
    "* Answer ....\n",
    "\n",
    "\"(ab)c+\" matches one or more \"abc\" in a row, while \"a(bc)+\" matches one or more \"bc\" immediately following an \"a\". The unqualified pattern \"abc+\" would match one or more \"abc\" in a row."
   ]
  },
  {
   "cell_type": "markdown",
   "id": "0cc5b932-53de-4549-88e2-341bb925c489",
   "metadata": {},
   "source": [
    "Q3. How much do you need to use the following sentence while using regular expressions?\n",
    "\n",
    "import re\n",
    "\n",
    "* Answer ....\n",
    "\n",
    "To use regular expressions in Python, you need to import the \"re\" module. For example: \"import re ."
   ]
  },
  {
   "cell_type": "markdown",
   "id": "7404f286-8c47-45d6-9dcb-81cb10f7f92d",
   "metadata": {},
   "source": [
    "Q4. Which characters have special significance in square brackets when expressing a range, and\n",
    "under what circumstances?\n",
    "\n",
    "* Answer ....\n",
    "\n",
    "Characters with special significance inside square brackets are \"^\", \"-\", and \"]\". \"^\" negates the character set, \"-\" indicates a range of characters, and \"]\" must be escaped to match a literal \"]\"."
   ]
  },
  {
   "cell_type": "markdown",
   "id": "60512087-a8b3-479f-87ef-3e4a8db0b4a5",
   "metadata": {},
   "source": [
    "Q5. How does compiling a regular-expression object benefit you?\n",
    "\n",
    "* Answer ....\n",
    "\n",
    "Compiling a regular-expression object can make your code more efficient, as it allows you to reuse the same pattern multiple times without having to recompile it each time. This can be especially beneficial if you are working with a large amount of text."
   ]
  },
  {
   "cell_type": "markdown",
   "id": "ae0ee0db-c535-4a00-bcb4-d85c843f5e1e",
   "metadata": {},
   "source": [
    "Q6. What are some examples of how to use the match object returned by re.match and re.search?\n",
    "\n",
    "* Answer ....\n",
    "\n",
    "Some examples of how to use the match object returned by re.match and re.search include using the \"group()\" method to extract the matched string, and the \"start()\" and \"end()\" methods to get the position of the match."
   ]
  },
  {
   "cell_type": "markdown",
   "id": "17b4851e-9d3d-4555-bb1e-6379649d2359",
   "metadata": {},
   "source": [
    "Q7. What is the difference between using a vertical bar (|) as an alteration and using square brackets\n",
    "as a character set?\n",
    "\n",
    "* Answer ....\n",
    "\n",
    "Using a vertical bar (|) as an alteration is similar to using square brackets as a character set, but with the vertical bar, you can specify multiple alternatives. For example, \"a|b\" matches \"a\" or \"b\", while \"[ab]\" matches either \"a\" or \"b\"."
   ]
  },
  {
   "cell_type": "markdown",
   "id": "31c22d2e-2eaf-4a51-a45c-12acc3651ff4",
   "metadata": {},
   "source": [
    "Q8. In regular-expression search patterns, why is it necessary to use the raw-string indicator (r)? In  \n",
    "replacement strings?\n",
    "\n",
    "* Answer ....\n",
    "\n",
    "In regular-expression search patterns, the raw-string indicator (r) is used to prevent Python from interpreting special characters like \"\", \".\", etc. as special characters in the regular expression. In replacement strings, it is not necessary to use the raw-string indicator."
   ]
  }
 ],
 "metadata": {
  "kernelspec": {
   "display_name": "Python 3 (ipykernel)",
   "language": "python",
   "name": "python3"
  },
  "language_info": {
   "codemirror_mode": {
    "name": "ipython",
    "version": 3
   },
   "file_extension": ".py",
   "mimetype": "text/x-python",
   "name": "python",
   "nbconvert_exporter": "python",
   "pygments_lexer": "ipython3",
   "version": "3.10.6"
  }
 },
 "nbformat": 4,
 "nbformat_minor": 5
}
