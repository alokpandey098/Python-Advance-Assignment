{
 "cells": [
  {
   "cell_type": "markdown",
   "id": "8a3730db-fdc9-4216-92b8-5b6201219ee0",
   "metadata": {},
   "source": [
    "Q1. If you have any, what are your choices for increasing the comparison between different figures on the same graph?\n",
    "\n",
    "* Answer ...\n",
    "\n",
    "To increase comparison between figures, use techniques like scaling, normalization, using multiple panels/facets, using different colors/symbols, adding a reference line, etc."
   ]
  },
  {
   "cell_type": "markdown",
   "id": "f3f1bbec-1b75-47b9-b990-df9503ecb892",
   "metadata": {},
   "source": [
    "Q2. Can you explain the benefit of compound interest over a higher rate of interest that does not\n",
    "compound after reading this chapter?\n",
    "\n",
    "* Answer ...\n",
    "\n",
    "Compound interest has the benefit of earning interest on previously earned interest, resulting in a faster growth of investment compared to simple interest that only earns on the principal amount."
   ]
  },
  {
   "cell_type": "markdown",
   "id": "307d89f2-9e8f-4a17-889d-513dd44b6a53",
   "metadata": {},
   "source": [
    "Q3. What is a histogram, exactly? Name a numpy method for creating such a graph.\n",
    "\n",
    "* Answer ...\n",
    "\n",
    "Histogram is a representation of the distribution of numerical data through grouping the data into bins and plotting the frequency of data in each bin as bars. Numpy method for creating histogram is numpy.histogram()."
   ]
  },
  {
   "cell_type": "markdown",
   "id": "1f062151-03de-495b-878a-27b01b4e9b3b",
   "metadata": {},
   "source": [
    "Q4. If necessary, how do you change the aspect ratios between the X and Y axes?\n",
    "\n",
    "* Answer ...\n",
    "\n",
    "To change aspect ratios between X and Y axes, use the set_aspect() method and set the aspect ratio as desired."
   ]
  },
  {
   "cell_type": "markdown",
   "id": "d3aee05b-31f5-4100-95a7-eb63fedb9bf5",
   "metadata": {},
   "source": [
    "Q5. Compare and contrast the three types of array multiplication between two numpy arrays: dot\n",
    "product, outer product, and regular multiplication of two numpy arrays.\n",
    "\n",
    "* Answer ...\n",
    "\n",
    "Dot product is a scalar product of two arrays, Outer product is a two-dimensional array with elements being the product of two input arrays, Regular multiplication is an element-wise multiplication of two arrays with same shape."
   ]
  },
  {
   "cell_type": "markdown",
   "id": "774fe3eb-a6ce-4f1f-9d1a-14afe5e13802",
   "metadata": {},
   "source": [
    "Q6. Before you buy a home, which numpy function will you use to measure your monthly mortgage\n",
    "payment\n",
    "\n",
    "* Answer ...\n",
    "\n",
    "To measure monthly mortgage payment, you can use the numpy.pmt() function to calculate the payment given loan amount, interest rate and loan term."
   ]
  },
  {
   "cell_type": "markdown",
   "id": "2b5a7d26-bad4-42bf-835d-d79210e2b74f",
   "metadata": {},
   "source": [
    "Q7. Can string data be stored in numpy arrays? If so, list at least one restriction that applies to this data.\n",
    "\n",
    "* Answer ...\n",
    "\n",
    "Yes, string data can be stored in numpy arrays with a restriction that all elements must have the same length and data type in the array must be object dtype."
   ]
  }
 ],
 "metadata": {
  "kernelspec": {
   "display_name": "Python 3 (ipykernel)",
   "language": "python",
   "name": "python3"
  },
  "language_info": {
   "codemirror_mode": {
    "name": "ipython",
    "version": 3
   },
   "file_extension": ".py",
   "mimetype": "text/x-python",
   "name": "python",
   "nbconvert_exporter": "python",
   "pygments_lexer": "ipython3",
   "version": "3.10.6"
  }
 },
 "nbformat": 4,
 "nbformat_minor": 5
}
