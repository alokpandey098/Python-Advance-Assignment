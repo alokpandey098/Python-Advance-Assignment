{
 "cells": [
  {
   "cell_type": "markdown",
   "id": "56ee95bc-8a66-4614-ae23-05faee6df3b7",
   "metadata": {},
   "source": [
    "Q1. What is the difference between __getattr__ and __getattribute__?\n",
    "\n",
    "\n",
    "* Answer ...\n",
    "\n",
    "The main difference between getattr and getattribute is that :\n",
    "* getattribute is used to handle all attribute access, \n",
    "* while getattr is only called when an attribute is not found in the usual places."
   ]
  },
  {
   "cell_type": "markdown",
   "id": "ac7df958-31be-4122-afd4-4e626cb3c8a6",
   "metadata": {},
   "source": [
    "Q2. What is the difference between properties and descriptors?\n",
    "\n",
    "\n",
    "* Answer ...\n",
    "\n",
    "Properties are a way to define methods that are accessed like an attribute, but are computed on the fly. Descriptors are a more general way to define the behavior of an attribute, which can include properties and more advanced functionality."
   ]
  },
  {
   "cell_type": "markdown",
   "id": "f41b834e-f425-4e02-94eb-eb20b144ac4d",
   "metadata": {},
   "source": [
    "Q3. What are the key differences in functionality between __getattr__ and __getattribute__, as well as\n",
    "properties and descriptors?\n",
    "\n",
    "\n",
    "* Answer ...\n",
    "\n",
    "The key difference in functionality between getattr and getattribute is that getattribute is called for all attribute access, while getattr is only called when an attribute is not found in the usual places. Properties are a way to define methods that are accessed like an attribute, but are computed on the fly, while descriptors are a more general way to define the behavior of an attribute, which can include properties and more advanced functionality."
   ]
  }
 ],
 "metadata": {
  "kernelspec": {
   "display_name": "Python 3 (ipykernel)",
   "language": "python",
   "name": "python3"
  },
  "language_info": {
   "codemirror_mode": {
    "name": "ipython",
    "version": 3
   },
   "file_extension": ".py",
   "mimetype": "text/x-python",
   "name": "python",
   "nbconvert_exporter": "python",
   "pygments_lexer": "ipython3",
   "version": "3.10.6"
  }
 },
 "nbformat": 4,
 "nbformat_minor": 5
}
