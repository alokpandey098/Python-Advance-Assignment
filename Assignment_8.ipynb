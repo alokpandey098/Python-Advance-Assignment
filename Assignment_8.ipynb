{
 "cells": [
  {
   "cell_type": "markdown",
   "id": "e18f1427-620a-45c3-b4cf-7760f0c2b951",
   "metadata": {},
   "source": [
    "Q1. What are the two latest user-defined exception constraints in Python 3.X?\n",
    "\n",
    "* Answer ...\n",
    "\n",
    "The two latest user-defined exception constraints in Python 3.X are :\n",
    "* PEP 3151, which introduced the \"raise from\" statement .\n",
    "* PEP 409, which added the \"raise ... from None\" statement."
   ]
  },
  {
   "cell_type": "markdown",
   "id": "c5ed38bb-57e2-4d47-ac64-727f7f39ce44",
   "metadata": {},
   "source": [
    "Q2. How are class-based exceptions that have been raised matched to handlers?\n",
    "\n",
    "* Answer ...\n",
    "\n",
    "Class-based exceptions that have been raised are matched to handlers by comparing the class of the exception that was raised to the classes listed in the except clauses of the try/except block. If the class of the exception that was raised is a subclass of one of the classes listed in the except clauses, the corresponding except block will be executed."
   ]
  },
  {
   "cell_type": "markdown",
   "id": "5d1fdb01-d0b9-4168-a977-6a52d09de8f5",
   "metadata": {},
   "source": [
    "Q3. Describe two methods for attaching context information to exception artefacts.\n",
    "\n",
    "* Answer ...\n",
    "\n",
    "Two methods for attaching context information to exception artefacts include,\n",
    "* adding custom attributes to an exception object, \n",
    "* And attaching a traceback object to an exception object."
   ]
  },
  {
   "cell_type": "markdown",
   "id": "bd6e90cd-206f-41b0-8ccf-4e556e14a9d7",
   "metadata": {},
   "source": [
    "Q4. Describe two methods for specifying the text of an exception object&#39;s error message.\n",
    "\n",
    "* Answer ...\n",
    "\n",
    "Two methods for specifying the text of an exception object's error message include ,\n",
    "* passing a string to the exception's constructor, \n",
    "* And defining a str() method for the exception class that returns a string."
   ]
  },
  {
   "cell_type": "markdown",
   "id": "764f52be-daaa-4aee-88e4-99669a060bf1",
   "metadata": {},
   "source": [
    "Q5. Why do you no longer use string-based exceptions?\n",
    "\n",
    "* Answer ...\n",
    "\n",
    "String-based exceptions were discouraged in Python 2.5 and removed in Python 3.0 because they are less powerful than class-based exceptions. String-based exceptions are not as flexible as class-based exceptions because they cannot be subclassed and they do not support attaching additional information, such as a traceback, to the exception."
   ]
  }
 ],
 "metadata": {
  "kernelspec": {
   "display_name": "Python 3 (ipykernel)",
   "language": "python",
   "name": "python3"
  },
  "language_info": {
   "codemirror_mode": {
    "name": "ipython",
    "version": 3
   },
   "file_extension": ".py",
   "mimetype": "text/x-python",
   "name": "python",
   "nbconvert_exporter": "python",
   "pygments_lexer": "ipython3",
   "version": "3.10.6"
  }
 },
 "nbformat": 4,
 "nbformat_minor": 5
}
